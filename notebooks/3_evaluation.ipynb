{
 "cells": [
  {
   "cell_type": "code",
   "execution_count": null,
   "metadata": {},
   "outputs": [],
   "source": [
    "import pandas as pd\n",
    "from jiwer import wer\n",
    "\n",
    "transcript_manifest = pd.read_csv('../output/radio_national_podcasts/manifest.csv')"
   ]
  },
  {
   "cell_type": "markdown",
   "metadata": {},
   "source": [
    "## OS"
   ]
  },
  {
   "cell_type": "code",
   "execution_count": null,
   "metadata": {},
   "outputs": [],
   "source": [
    "import sys \n",
    "sys.path.append('..')\n",
    "from asr import transcribe_mono_audio"
   ]
  },
  {
   "cell_type": "code",
   "execution_count": null,
   "metadata": {},
   "outputs": [],
   "source": [
    "from tqdm import tqdm\n",
    "import time\n",
    "\n",
    "os_transcript_records = []\n",
    "for audio_path in tqdm(transcript_manifest.head(5).audio_path):\n",
    "    before = time.time()\n",
    "    transcript = transcribe_mono_audio(audio_path)\n",
    "    after = time.time()\n",
    "    os_transcript_records.append({'hypothesis': ' '.join(transcript.transcript.tolist()),\n",
    "    'elapsed_time': after - before,\n",
    "    'provider': 'os'})"
   ]
  },
  {
   "cell_type": "code",
   "execution_count": 30,
   "metadata": {},
   "outputs": [],
   "source": [
    "# remove \"this is an ABC podcast\" intro from hypothesis\n",
    "os_wer = (pd.concat([transcript_manifest.head(), pd.DataFrame(os_transcript_records)], axis=1)\n",
    ".assign(wer=lambda x: x.apply(lambda y: wer(y.transcript, y.hypothesis), axis=1))\n",
    ".pipe(lambda x: x[['transcript','hypothesis','stem','transcript_len','wer']])\n",
    ")"
   ]
  },
  {
   "cell_type": "markdown",
   "metadata": {},
   "source": [
    "## GCP"
   ]
  },
  {
   "cell_type": "markdown",
   "metadata": {},
   "source": [
    "## AWS"
   ]
  },
  {
   "cell_type": "markdown",
   "metadata": {},
   "source": [
    "## Azure"
   ]
  }
 ],
 "metadata": {
  "interpreter": {
   "hash": "b0a3389de74b7ec3a6acaa3d6c3d81172f0da4390709f30c0434c73a0ff8c437"
  },
  "kernelspec": {
   "display_name": "Python 3.8.13 ('p38')",
   "language": "python",
   "name": "python3"
  },
  "language_info": {
   "codemirror_mode": {
    "name": "ipython",
    "version": 3
   },
   "file_extension": ".py",
   "mimetype": "text/x-python",
   "name": "python",
   "nbconvert_exporter": "python",
   "pygments_lexer": "ipython3",
   "version": "3.8.13"
  },
  "orig_nbformat": 4
 },
 "nbformat": 4,
 "nbformat_minor": 2
}
