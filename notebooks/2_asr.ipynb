{
 "cells": [
  {
   "cell_type": "code",
   "execution_count": null,
   "metadata": {},
   "outputs": [],
   "source": [
    "import logging\n",
    "\n",
    "import nemo.collections.asr as nemo_asr\n",
    "import pandas as pd\n",
    "import torch\n",
    "from nemo.collections.nlp.models import PunctuationCapitalizationModel\n",
    "from pyannote.audio import Pipeline\n",
    "from pydub import AudioSegment\n",
    "from pydub.silence import detect_silence\n",
    "from ctcdecode import CTCBeamDecoder\n",
    "\n",
    "logging.getLogger(\"nemo_logger\").setLevel(logging.ERROR)\n",
    "asr_logger = logging.getLogger(\"asr\")\n",
    "asr_logger.setLevel(logging.INFO)\n"
   ]
  },
  {
   "cell_type": "markdown",
   "metadata": {},
   "source": [
    "## Model spot-testing"
   ]
  },
  {
   "cell_type": "code",
   "execution_count": null,
   "metadata": {},
   "outputs": [],
   "source": [
    "import tempfile\n",
    "import nvsmi\n",
    "from pathlib import Path\n",
    "import time\n",
    "import torch\n",
    "import math\n",
    "\n",
    "# scope the models\n",
    "target_models = ['stt_en_quartznet15x5', 'stt_en_citrinet_512', 'stt_en_contextnet_512', 'stt_en_conformer_ctc_medium', 'stt_en_conformer_transducer_medium']\n",
    "pretrained_models = [e for e in nemo_asr.models.ASRModel.list_available_models() if e.pretrained_model_name in target_models]\n",
    "\n",
    "# take a sample podcast\n",
    "audio_segment = AudioSegment.from_wav('/home/blog-os-asr/output/temp_dir/rewilding-the-scottish-highlands.wav')\n",
    "\n",
    "# progressively slice to gauge memory usage\n",
    "probable_max_audio_seconds = 60 * 3\n",
    "s2ms = 1000\n",
    "seconds_increment = 30\n",
    "\n",
    "slice_intervals = [(0, e*s2ms) for e in list(range(0, math.ceil(audio_segment.duration_seconds)+30, 30))[1:]]\n",
    "# slice_intervals = [(0, e*s2ms) for e in list(range(0,probable_max_audio_seconds,seconds_increment))][1:]\n",
    "\n",
    "memory_usage_records = []\n",
    "for pretrained_model in pretrained_models:\n",
    "    print(f\"Memory testing: {pretrained_model.pretrained_model_name}\")\n",
    "\n",
    "    # model classes defined alongside model names\n",
    "    model = pretrained_model.class_.from_pretrained(model_name=pretrained_model.pretrained_model_name)\n",
    "    model_memory_footprint = nvsmi.get_gpu_processes()[0].used_memory\n",
    "\n",
    "    with tempfile.TemporaryDirectory() as temp_dir:\n",
    "        # files as input; save in tmp dir\n",
    "        for interval in slice_intervals:\n",
    "            try:\n",
    "                slice = audio_segment[interval[0]:interval[1]]\n",
    "                save_message = slice.export(Path(temp_dir) / 'memory_test_fragment.wav', format='wav')\n",
    "                before = time.time()\n",
    "                transcription = model.transcribe(paths2audio_files=[str(Path(temp_dir) / 'memory_test_fragment.wav')], batch_size=1)\n",
    "                after = time.time()\n",
    "\n",
    "                # collect some metrics\n",
    "                memory_usage_records.append({'model_name': pretrained_model.pretrained_model_name,\n",
    "                'input_size': slice.duration_seconds,\n",
    "                'transcript': transcription,\n",
    "                'memory_usage': nvsmi.get_gpu_processes()[0].used_memory,\n",
    "                'time_elapsed': after-before})\n",
    "            except:\n",
    "                # out-of-memory > move onto next model\n",
    "                print('CUDA out of memory; skipping remaining slice intervals')\n",
    "                break\n",
    "    \n",
    "    # clear for next model\n",
    "    del model\n",
    "    torch.cuda.empty_cache()\n"
   ]
  },
  {
   "cell_type": "code",
   "execution_count": null,
   "metadata": {},
   "outputs": [],
   "source": [
    "memory_usage = pd.DataFrame(memory_usage_records)"
   ]
  },
  {
   "cell_type": "code",
   "execution_count": null,
   "metadata": {},
   "outputs": [],
   "source": [
    "import seaborn as sns\n",
    "import matplotlib.pyplot as plt\n",
    "\n",
    "sns.set_style(\"dark\")\n",
    "sns.barplot(x=\"input_size\", y=\"time_elapsed\", hue=\"model_name\", data=memory_usage)\n",
    "plt.xticks(rotation=45)\n",
    "plt.title('Input Size x Elapsed Time')"
   ]
  },
  {
   "cell_type": "markdown",
   "metadata": {},
   "source": [
    "## WER evaluation\n",
    "- given limitation of conformer/transducer models, bisect audio for all models > whole transcript"
   ]
  },
  {
   "cell_type": "code",
   "execution_count": 41,
   "metadata": {},
   "outputs": [
    {
     "data": {
      "text/plain": [
       "([\"but we begin with jeremy leggett former professor at imperial college and oxford with his massive project in a world famous setting highlands reworlding is a new type of company it's a mass ownership company and it's going to do its level best to accelerate nature recovery in the highlands of scotland so as to contribute to repair of climate melt down and biodiversity claps that's some remit isn't it jeremy leggett could you place us where are we i know down below is loch ness but lochnes much to my surprise it's very very long so where are we we're halfway along loch ness about sixteen miles from a fairly big city inverness the capital of the highlands of scotland despite the proximity to that city we're in a really wild place there's one thousand two hundred acres on this estate that we're managing and not many footpaths and there's a lot of genuine wildland in our mixed habitats of native woodlands peatlands pasture heathland and coniferous plantations how long is loch ness because i thought it was like a big lake but it isn't yes it's a huge fresh water lake i think it's about fifty miles long proximately and it's a very very impressive body of water indeed there's a room or you own half of it well a temporary custodianship of them and in the estate papers it does say that we own the loch out the mid point but i don't know i think we probably need a navy to enforce any kind of sense of ownership if it's the deepest part is that where nessie might be is that where the monster might hide that's what various locals have pointed out to me if we own the deepest part of all half of the deepest part of lochness then possibly we own the loch ness monster which would be quite amusing if it were true but still looking at the huge estate we've got a wonderful garden we're sitting on which goes down the hill and then range after range of hillside mountain and so on all covered in trees the one thing that's really surprising about what you're doing is you're removing many of the trees so as to achieve what well helping with climate and biodiversity and it's really interesting i set out on this exercise as you know as a long term climate campaigner with no particular expertise so i spent the first year conferring with all and sundry all the experts i could attract to come here and there were good few and they all disagreed with each other on how you should go about nature recovery but the one thing that they all agreed on was get rid of the monoculture plantations they should never have been planted the way they were particularly on the peatland very bad for biodiversity and not very good for carbon either so that's what we've done we've acted on that and if someone had said to me as an long term environmentalist you'll end at cutting down thousands of trees i'd have said couple of years ago you must be balmy but that's exactly what's happened are those pines yes there's bruce trees and the cicest bruce is the great enemy of the ecologists i show ecologists around this place and the pluck cice saplings out of the ground where they've regenerated and i suppose what you are trying to do is reestablish what was here but the problem is that if you're trying to have an effect on carbon emissions and such like pine trees grow fairly quickly i presume and your replacement will take a few years to achieve yes you have to put your faith in the long term system and there's very good science to show that the broad leaf and mixture of native species does take down all carbon over the lifetime of the tree and so that's one of the reasons you go for it another reason is that in the mix of native species you have resilience resilience to the kind of pests we're going to see spreading in the warming world and the other thing we've noticed quite remarkable this we're having many more wind storms now severe ones we had three named storms in a week earlier this year as a result of climate change and they knock the conifers over like soldiers being mown down on the song the broad leafs you know they take a bit of a battering but they do much much better even broad leafs like oak yes and we have a very rare stretch of the oak woodland down on the lower lochner slope that i take tricologists in into that place and they start swooning at how wonderful it is and some of them think it's you know a strip of temperate atlantic rain forest of which there's very little left in the united kingdom so it's a special duty not just to enhance biodiversity as\",\n",
       "  \"to do in various ways but to protect what we've got because it's become so vanishingly rare and early said you can see trees going off into the disas but as she the far range of hills is as bald as a coot and that's because of sheep and human practices desperation to shoot deer and that has denuded those mountains of pretty much everything when you explore this area as i've tried too briefly in my quick visit you see the variety of landscape and it includes peat bogs in other words where you don't have trees necessarily established you've got depth of peat which goes down meters are they lasting or are they too in danger where they're in danger they can dry out and they can burn and most of scotland's peat of which there is a vast amount is in a poor condition we have an area of a very large peat bog but it's only thirteen per cent of the area of the estate but we've measured the depth of the peat is up to four metres thick and that means there's up to ten times more carbon in that peat than there is in all these woodlands seventy per cent of the estate covered in varied woodlands and the other thing we've discovered is that it is emitting so much carbon dioxide that is actually cancelling out the amount that's coming down into the trees so this at first passionately bad news but it is actually there's a glass hof full approach that which is that actually you can fix it fairly easily what you have to do is cut down the conifer plantations that should never have been put on the peat number one and number two you block the drainage channels you do everything you can to keep water in the peat area so that the spaghet and mosses can grow and prosper and that's what takes the carbon down out of the atmosphere what is peat actually well it's just a long accumulation of organic matter it's very rich in carbon that comes from the accumulation of the mosses that make the surface of the peat bog over time and four meters that is roughly four thousand years worth of peat accumulation since the ice retreated from scotland plenty of peat in australia and tragically some of it sometimes is on fire with fires lasting years incredible isn't it yes and that's my big fear as i sit here in something approaching paradise looking out at these woodlands and the peatlands although pretty degraded they're rather special when the heather comes out in august and i worry that at some point if we don't really start turning the tide on climate change i or my descendants are going to be watching this stuff burn fortunately you have assistants from science and you've got a team coming soon from oxford it's postoxes it and full professors it's very exciting because it's the entire university has decided they're going to set up a centre on nature recovery all the multiple departments that you would think ought to be interested in this are interested and it's the tenure program massively funded by the leverholme trust and they're going to be deploying not just the academics but postox as well joining the team that i've been lucky enough to attract here anyway which is led by two world class mid career scientists with a chief data scientist who's joining them at the end of the month who basically ran much of the data analysis for the british civil service she got an o b e for that cathy atkinson and she has decided to abscond to help us crunch our numbers in nature recovery in scotland because we're hoping not just to perform very well ourselves on that two estates but help other landowners to change our land management practices so that we can scale nature recovery all happening around lochness and it's a long long way of course from the whole of australia but is what you are doing an example of what could be done in terms of examination of biodiversity and restoration rewilding if you like to some extent that could be done anywhere yes it is part of what has to happen globally obviously it will vary in its protest land management in different land types but that's a universal challenge that we all have and the other aspect of course is is the aspect of community will never beat these existential threats unless we have full engagement or full fighting power of local communities and we're trying very hard to do that in scotland and that applies whether you're talking about the highlands of scotland the amazonian rainforest or the australian outback dr jeremy legit once of solar fame now in the highland rewilding his favorite trees are those native oaks he mentioned\"],\n",
       " [\"but we begin with jeremy leggett former professor at imperial college and oxford with his massive project in a world famous setting highlands reworlding is a new type of company it's a mass ownership company and it's going to do its level best to accelerate nature recovery in the highlands of scotland so as to contribute to repair of climate melt down and biodiversity claps that's some remit isn't it jeremy leggett could you place us where are we i know down below is loch ness but lochnes much to my surprise it's very very long so where are we we're halfway along loch ness about sixteen miles from a fairly big city inverness the capital of the highlands of scotland despite the proximity to that city we're in a really wild place there's one thousand two hundred acres on this estate that we're managing and not many footpaths and there's a lot of genuine wildland in our mixed habitats of native woodlands peatlands pasture heathland and coniferous plantations how long is loch ness because i thought it was like a big lake but it isn't yes it's a huge fresh water lake i think it's about fifty miles long proximately and it's a very very impressive body of water indeed there's a room or you own half of it well a temporary custodianship of them and in the estate papers it does say that we own the loch out the mid point but i don't know i think we probably need a navy to enforce any kind of sense of ownership if it's the deepest part is that where nessie might be is that where the monster might hide that's what various locals have pointed out to me if we own the deepest part of all half of the deepest part of lochness then possibly we own the loch ness monster which would be quite amusing if it were true but still looking at the huge estate we've got a wonderful garden we're sitting on which goes down the hill and then range after range of hillside mountain and so on all covered in trees the one thing that's really surprising about what you're doing is you're removing many of the trees so as to achieve what well helping with climate and biodiversity and it's really interesting i set out on this exercise as you know as a long term climate campaigner with no particular expertise so i spent the first year conferring with all and sundry all the experts i could attract to come here and there were good few and they all disagreed with each other on how you should go about nature recovery but the one thing that they all agreed on was get rid of the monoculture plantations they should never have been planted the way they were particularly on the peatland very bad for biodiversity and not very good for carbon either so that's what we've done we've acted on that and if someone had said to me as an long term environmentalist you'll end at cutting down thousands of trees i'd have said couple of years ago you must be balmy but that's exactly what's happened are those pines yes there's bruce trees and the cicest bruce is the great enemy of the ecologists i show ecologists around this place and the pluck cice saplings out of the ground where they've regenerated and i suppose what you are trying to do is reestablish what was here but the problem is that if you're trying to have an effect on carbon emissions and such like pine trees grow fairly quickly i presume and your replacement will take a few years to achieve yes you have to put your faith in the long term system and there's very good science to show that the broad leaf and mixture of native species does take down all carbon over the lifetime of the tree and so that's one of the reasons you go for it another reason is that in the mix of native species you have resilience resilience to the kind of pests we're going to see spreading in the warming world and the other thing we've noticed quite remarkable this we're having many more wind storms now severe ones we had three named storms in a week earlier this year as a result of climate change and they knock the conifers over like soldiers being mown down on the song the broad leafs you know they take a bit of a battering but they do much much better even broad leafs like oak yes and we have a very rare stretch of the oak woodland down on the lower lochner slope that i take tricologists in into that place and they start swooning at how wonderful it is and some of them think it's you know a strip of temperate atlantic rain forest of which there's very little left in the united kingdom so it's a special duty not just to enhance biodiversity as\",\n",
       "  \"to do in various ways but to protect what we've got because it's become so vanishingly rare and early said you can see trees going off into the disas but as she the far range of hills is as bald as a coot and that's because of sheep and human practices desperation to shoot deer and that has denuded those mountains of pretty much everything when you explore this area as i've tried too briefly in my quick visit you see the variety of landscape and it includes peat bogs in other words where you don't have trees necessarily established you've got depth of peat which goes down meters are they lasting or are they too in danger where they're in danger they can dry out and they can burn and most of scotland's peat of which there is a vast amount is in a poor condition we have an area of a very large peat bog but it's only thirteen per cent of the area of the estate but we've measured the depth of the peat is up to four metres thick and that means there's up to ten times more carbon in that peat than there is in all these woodlands seventy per cent of the estate covered in varied woodlands and the other thing we've discovered is that it is emitting so much carbon dioxide that is actually cancelling out the amount that's coming down into the trees so this at first passionately bad news but it is actually there's a glass hof full approach that which is that actually you can fix it fairly easily what you have to do is cut down the conifer plantations that should never have been put on the peat number one and number two you block the drainage channels you do everything you can to keep water in the peat area so that the spaghet and mosses can grow and prosper and that's what takes the carbon down out of the atmosphere what is peat actually well it's just a long accumulation of organic matter it's very rich in carbon that comes from the accumulation of the mosses that make the surface of the peat bog over time and four meters that is roughly four thousand years worth of peat accumulation since the ice retreated from scotland plenty of peat in australia and tragically some of it sometimes is on fire with fires lasting years incredible isn't it yes and that's my big fear as i sit here in something approaching paradise looking out at these woodlands and the peatlands although pretty degraded they're rather special when the heather comes out in august and i worry that at some point if we don't really start turning the tide on climate change i or my descendants are going to be watching this stuff burn fortunately you have assistants from science and you've got a team coming soon from oxford it's postoxes it and full professors it's very exciting because it's the entire university has decided they're going to set up a centre on nature recovery all the multiple departments that you would think ought to be interested in this are interested and it's the tenure program massively funded by the leverholme trust and they're going to be deploying not just the academics but postox as well joining the team that i've been lucky enough to attract here anyway which is led by two world class mid career scientists with a chief data scientist who's joining them at the end of the month who basically ran much of the data analysis for the british civil service she got an o b e for that cathy atkinson and she has decided to abscond to help us crunch our numbers in nature recovery in scotland because we're hoping not just to perform very well ourselves on that two estates but help other landowners to change our land management practices so that we can scale nature recovery all happening around lochness and it's a long long way of course from the whole of australia but is what you are doing an example of what could be done in terms of examination of biodiversity and restoration rewilding if you like to some extent that could be done anywhere yes it is part of what has to happen globally obviously it will vary in its protest land management in different land types but that's a universal challenge that we all have and the other aspect of course is is the aspect of community will never beat these existential threats unless we have full engagement or full fighting power of local communities and we're trying very hard to do that in scotland and that applies whether you're talking about the highlands of scotland the amazonian rainforest or the australian outback dr jeremy legit once of solar fame now in the highland rewilding his favorite trees are those native oaks he mentioned\"])"
      ]
     },
     "execution_count": 41,
     "metadata": {},
     "output_type": "execute_result"
    }
   ],
   "source": [
    "transcriptions"
   ]
  },
  {
   "cell_type": "code",
   "execution_count": 50,
   "metadata": {},
   "outputs": [
    {
     "data": {
      "text/plain": [
       "True"
      ]
     },
     "execution_count": 50,
     "metadata": {},
     "output_type": "execute_result"
    }
   ],
   "source": [
    "type(transcriptions[0]) == list"
   ]
  },
  {
   "cell_type": "code",
   "execution_count": 51,
   "metadata": {},
   "outputs": [
    {
     "name": "stdout",
     "output_type": "stream",
     "text": [
      "Processing for stt_en_citrinet_512\n"
     ]
    },
    {
     "data": {
      "application/json": {
       "ascii": false,
       "bar_format": null,
       "colour": null,
       "elapsed": 0.016308069229125977,
       "initial": 0,
       "n": 0,
       "ncols": null,
       "nrows": null,
       "postfix": null,
       "prefix": "Transcribing",
       "rate": null,
       "total": 2,
       "unit": "it",
       "unit_divisor": 1000,
       "unit_scale": false
      },
      "application/vnd.jupyter.widget-view+json": {
       "model_id": "f4246e37d00f4bba98b116903a2a1fa3",
       "version_major": 2,
       "version_minor": 0
      },
      "text/plain": [
       "Transcribing:   0%|          | 0/2 [00:00<?, ?it/s]"
      ]
     },
     "metadata": {},
     "output_type": "display_data"
    },
    {
     "name": "stdout",
     "output_type": "stream",
     "text": [
      "Processing for stt_en_conformer_ctc_medium\n"
     ]
    },
    {
     "data": {
      "application/json": {
       "ascii": false,
       "bar_format": null,
       "colour": null,
       "elapsed": 0.01649641990661621,
       "initial": 0,
       "n": 0,
       "ncols": null,
       "nrows": null,
       "postfix": null,
       "prefix": "Transcribing",
       "rate": null,
       "total": 2,
       "unit": "it",
       "unit_divisor": 1000,
       "unit_scale": false
      },
      "application/vnd.jupyter.widget-view+json": {
       "model_id": "f01edb821bf24f55a0bb4750213fe67b",
       "version_major": 2,
       "version_minor": 0
      },
      "text/plain": [
       "Transcribing:   0%|          | 0/2 [00:00<?, ?it/s]"
      ]
     },
     "metadata": {},
     "output_type": "display_data"
    },
    {
     "name": "stdout",
     "output_type": "stream",
     "text": [
      "Processing for stt_en_conformer_transducer_medium\n"
     ]
    },
    {
     "data": {
      "application/json": {
       "ascii": false,
       "bar_format": null,
       "colour": null,
       "elapsed": 0.01800370216369629,
       "initial": 0,
       "n": 0,
       "ncols": null,
       "nrows": null,
       "postfix": null,
       "prefix": "Transcribing",
       "rate": null,
       "total": 2,
       "unit": "it",
       "unit_divisor": 1000,
       "unit_scale": false
      },
      "application/vnd.jupyter.widget-view+json": {
       "model_id": "fb944a203fae4e408216841b2cd70654",
       "version_major": 2,
       "version_minor": 0
      },
      "text/plain": [
       "Transcribing:   0%|          | 0/2 [00:00<?, ?it/s]"
      ]
     },
     "metadata": {},
     "output_type": "display_data"
    },
    {
     "name": "stdout",
     "output_type": "stream",
     "text": [
      "Processing for stt_en_contextnet_512\n"
     ]
    },
    {
     "data": {
      "application/json": {
       "ascii": false,
       "bar_format": null,
       "colour": null,
       "elapsed": 0.02313065528869629,
       "initial": 0,
       "n": 0,
       "ncols": null,
       "nrows": null,
       "postfix": null,
       "prefix": "Transcribing",
       "rate": null,
       "total": 2,
       "unit": "it",
       "unit_divisor": 1000,
       "unit_scale": false
      },
      "application/vnd.jupyter.widget-view+json": {
       "model_id": "9eab2ce30d48492f944758bf717531b8",
       "version_major": 2,
       "version_minor": 0
      },
      "text/plain": [
       "Transcribing:   0%|          | 0/2 [00:00<?, ?it/s]"
      ]
     },
     "metadata": {},
     "output_type": "display_data"
    },
    {
     "name": "stdout",
     "output_type": "stream",
     "text": [
      "Processing for stt_en_quartznet15x5\n"
     ]
    },
    {
     "data": {
      "application/json": {
       "ascii": false,
       "bar_format": null,
       "colour": null,
       "elapsed": 0.018798112869262695,
       "initial": 0,
       "n": 0,
       "ncols": null,
       "nrows": null,
       "postfix": null,
       "prefix": "Transcribing",
       "rate": null,
       "total": 2,
       "unit": "it",
       "unit_divisor": 1000,
       "unit_scale": false
      },
      "application/vnd.jupyter.widget-view+json": {
       "model_id": "6f6aa3c38069436bbb5632fa4539b99d",
       "version_major": 2,
       "version_minor": 0
      },
      "text/plain": [
       "Transcribing:   0%|          | 0/2 [00:00<?, ?it/s]"
      ]
     },
     "metadata": {},
     "output_type": "display_data"
    }
   ],
   "source": [
    "full_transcription_records = []\n",
    "\n",
    "with tempfile.TemporaryDirectory() as temp_dir:\n",
    "    for pretrained_model in pretrained_models:\n",
    "        print(f\"Processing for {pretrained_model.pretrained_model_name}\")\n",
    "        model = pretrained_model.class_.from_pretrained(model_name=pretrained_model.pretrained_model_name)\n",
    "        # oh god, bisect all audio\n",
    "        first = audio_segment[:math.ceil(audio_segment.duration_seconds / 2) * 1000].export(Path(temp_dir) / 'first.wav', format='wav')\n",
    "        second = audio_segment[math.ceil(audio_segment.duration_seconds / 2) * 1000:].export(Path(temp_dir) / 'second.wav', format='wav')\n",
    "        transcriptions = model.transcribe(paths2audio_files=[str(Path(temp_dir) / 'first.wav'), str(Path(temp_dir) / 'second.wav')], batch_size=1)\n",
    "\n",
    "        joined_transcriptions = ' '.join(transcriptions) if type(transcriptions) == list else ' '.join(transcriptions[0])\n",
    "        full_transcription_records.append({'model': pretrained_model.pretrained_model_name, 'transcript': joined_transcriptions})\n",
    "            \n",
    "        del model\n",
    "        torch.cuda.empty_cache()"
   ]
  },
  {
   "cell_type": "code",
   "execution_count": 56,
   "metadata": {},
   "outputs": [
    {
     "data": {
      "text/html": [
       "<div>\n",
       "<style scoped>\n",
       "    .dataframe tbody tr th:only-of-type {\n",
       "        vertical-align: middle;\n",
       "    }\n",
       "\n",
       "    .dataframe tbody tr th {\n",
       "        vertical-align: top;\n",
       "    }\n",
       "\n",
       "    .dataframe thead th {\n",
       "        text-align: right;\n",
       "    }\n",
       "</style>\n",
       "<table border=\"1\" class=\"dataframe\">\n",
       "  <thead>\n",
       "    <tr style=\"text-align: right;\">\n",
       "      <th></th>\n",
       "      <th>model</th>\n",
       "      <th>wer</th>\n",
       "    </tr>\n",
       "  </thead>\n",
       "  <tbody>\n",
       "    <tr>\n",
       "      <th>0</th>\n",
       "      <td>stt_en_citrinet_512</td>\n",
       "      <td>0.318701</td>\n",
       "    </tr>\n",
       "    <tr>\n",
       "      <th>1</th>\n",
       "      <td>stt_en_conformer_ctc_medium</td>\n",
       "      <td>0.334937</td>\n",
       "    </tr>\n",
       "    <tr>\n",
       "      <th>2</th>\n",
       "      <td>stt_en_conformer_transducer_medium</td>\n",
       "      <td>0.285628</td>\n",
       "    </tr>\n",
       "    <tr>\n",
       "      <th>3</th>\n",
       "      <td>stt_en_contextnet_512</td>\n",
       "      <td>0.293446</td>\n",
       "    </tr>\n",
       "    <tr>\n",
       "      <th>4</th>\n",
       "      <td>stt_en_quartznet15x5</td>\n",
       "      <td>0.326518</td>\n",
       "    </tr>\n",
       "  </tbody>\n",
       "</table>\n",
       "</div>"
      ],
      "text/plain": [
       "                                model       wer\n",
       "0                 stt_en_citrinet_512  0.318701\n",
       "1         stt_en_conformer_ctc_medium  0.334937\n",
       "2  stt_en_conformer_transducer_medium  0.285628\n",
       "3               stt_en_contextnet_512  0.293446\n",
       "4                stt_en_quartznet15x5  0.326518"
      ]
     },
     "execution_count": 56,
     "metadata": {},
     "output_type": "execute_result"
    }
   ],
   "source": [
    "from jiwer import wer\n",
    "\n",
    "ground_truth = Path('/home/blog-os-asr/output/radio_national_podcasts/transcripts/rewilding-the-scottish-highlands.txt').read_text()\n",
    "\n",
    "full_transcriptions = (pd.DataFrame(full_transcription_records)\n",
    ".assign(wer=lambda x: x.transcript.apply(lambda y: wer(ground_truth, y)))\n",
    ")\n",
    "\n",
    "full_transcriptions.pipe(lambda x: x[['model','wer']])"
   ]
  },
  {
   "cell_type": "markdown",
   "metadata": {},
   "source": [
    "## Test script"
   ]
  },
  {
   "cell_type": "code",
   "execution_count": null,
   "metadata": {},
   "outputs": [],
   "source": [
    "from asr import transcribe_mono\n",
    "\n",
    "transcription = transcribe_mono(\n",
    "    \"../output/radio_national_podcasts/audio/rewilding-the-scottish-highlands.mp3\"\n",
    ")\n",
    "transcription"
   ]
  },
  {
   "cell_type": "code",
   "execution_count": null,
   "metadata": {},
   "outputs": [],
   "source": [
    "time_formatted_words_all = []\n",
    "for idx, record in transcription.head(10).iterrows():\n",
    "    time_formatted_words = _format_word_timestamps(record.asr_outputs, record.start)\n",
    "\n",
    "    # 5.0 apply punctuation to each output\n",
    "    punctuated_sequence = punct_model.add_punctuation_capitalization(\n",
    "        [\" \".join(e[\"word\"] for e in time_formatted_words)]\n",
    "    )[0]\n",
    "\n",
    "    # if len(punctuated_sequence.split(\" \")) == len(time_formatted_words):\n",
    "    #     # easy case, where punctuated output len matches input len; assign directly\n",
    "    #     punctuated_sequence_joined = (\n",
    "    #         pd.DataFrame(time_formatted_words)\n",
    "    #         .assign(word=punctuated_sequence.split(\" \"))\n",
    "    #         .assign(speakerTag=record.speaker)\n",
    "    #         .to_dict(orient=\"records\")\n",
    "    #     )\n",
    "    #     time_formatted_words_all.append(punctuated_sequence_joined)\n",
    "    # else:\n",
    "    #     # otherwise.. pad the difference? changes should be limited to immediately proceeding fullstops, commas, question marks\n",
    "    #     # https://docs.nvidia.com/deeplearning/nemo/user-guide/docs/en/main/nlp/punctuation_and_capitalization.html\n",
    "    #     print(\"Punctuated outputs not the same length as input\")"
   ]
  }
 ],
 "metadata": {
  "kernelspec": {
   "display_name": "Python 3.8.13 ('p38')",
   "language": "python",
   "name": "python3"
  },
  "language_info": {
   "codemirror_mode": {
    "name": "ipython",
    "version": 3
   },
   "file_extension": ".py",
   "mimetype": "text/x-python",
   "name": "python",
   "nbconvert_exporter": "python",
   "pygments_lexer": "ipython3",
   "version": "3.8.13"
  },
  "vscode": {
   "interpreter": {
    "hash": "bb0121aec9e40b71ec9730e04f00957539fc5aa06febb00ef12b9b6cf43c877e"
   }
  }
 },
 "nbformat": 4,
 "nbformat_minor": 2
}
