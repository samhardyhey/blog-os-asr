{
 "cells": [
  {
   "cell_type": "code",
   "execution_count": null,
   "metadata": {},
   "outputs": [],
   "source": [
    "import logging\n",
    "\n",
    "import nemo.collections.asr as nemo_asr\n",
    "import pandas as pd\n",
    "import torch\n",
    "from nemo.collections.nlp.models import PunctuationCapitalizationModel\n",
    "from pyannote.audio import Pipeline\n",
    "from pydub import AudioSegment\n",
    "from pydub.silence import detect_silence\n",
    "\n",
    "from ctcdecode import CTCBeamDecoder\n",
    "\n",
    "logging.getLogger(\"nemo_logger\").setLevel(logging.ERROR)\n",
    "asr_logger = logging.getLogger(\"asr\")\n",
    "asr_logger.setLevel(logging.INFO)\n"
   ]
  },
  {
   "cell_type": "code",
   "execution_count": null,
   "metadata": {},
   "outputs": [],
   "source": [
    "from asr import transcribe_mono"
   ]
  },
  {
   "cell_type": "code",
   "execution_count": null,
   "metadata": {},
   "outputs": [],
   "source": [
    "transcription = transcribe_mono(\n",
    "    \"../output/radio_national_podcasts/audio/rewilding-the-scottish-highlands.mp3\"\n",
    ")\n",
    "transcription"
   ]
  },
  {
   "cell_type": "code",
   "execution_count": null,
   "metadata": {},
   "outputs": [],
   "source": [
    "transcription"
   ]
  },
  {
   "cell_type": "code",
   "execution_count": null,
   "metadata": {},
   "outputs": [],
   "source": [
    "time_formatted_words_all = []\n",
    "for idx, record in transcription.head(10).iterrows():\n",
    "    time_formatted_words = _format_word_timestamps(record.asr_outputs, record.start)\n",
    "\n",
    "    # 5.0 apply punctuation to each output\n",
    "    punctuated_sequence = punct_model.add_punctuation_capitalization(\n",
    "        [\" \".join(e[\"word\"] for e in time_formatted_words)]\n",
    "    )[0]\n",
    "\n",
    "    # if len(punctuated_sequence.split(\" \")) == len(time_formatted_words):\n",
    "    #     # easy case, where punctuated output len matches input len; assign directly\n",
    "    #     punctuated_sequence_joined = (\n",
    "    #         pd.DataFrame(time_formatted_words)\n",
    "    #         .assign(word=punctuated_sequence.split(\" \"))\n",
    "    #         .assign(speakerTag=record.speaker)\n",
    "    #         .to_dict(orient=\"records\")\n",
    "    #     )\n",
    "    #     time_formatted_words_all.append(punctuated_sequence_joined)\n",
    "    # else:\n",
    "    #     # otherwise.. pad the difference? changes should be limited to immediately proceeding fullstops, commas, question marks\n",
    "    #     # https://docs.nvidia.com/deeplearning/nemo/user-guide/docs/en/main/nlp/punctuation_and_capitalization.html\n",
    "    #     print(\"Punctuated outputs not the same length as input\")"
   ]
  }
 ],
 "metadata": {
  "kernelspec": {
   "display_name": "Python 3.9.13 ('blog.venv': venv)",
   "language": "python",
   "name": "python3"
  },
  "language_info": {
   "codemirror_mode": {
    "name": "ipython",
    "version": 3
   },
   "file_extension": ".py",
   "mimetype": "text/x-python",
   "name": "python",
   "nbconvert_exporter": "python",
   "pygments_lexer": "ipython3",
   "version": "3.8.13"
  },
  "vscode": {
   "interpreter": {
    "hash": "b352da5c727154a09156c935f17a9c4d49b2c9c0946f47ddfcca219f38b45087"
   }
  }
 },
 "nbformat": 4,
 "nbformat_minor": 2
}
