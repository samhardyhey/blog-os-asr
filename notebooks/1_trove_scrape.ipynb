{
 "cells": [
  {
   "cell_type": "code",
   "execution_count": null,
  "id": "f132d4dd",
   "metadata": {
    "ExecuteTime": {
     "end_time": "2021-08-31T04:13:13.238878Z",
     "start_time": "2021-08-31T04:13:13.165273Z"
    }
   },
   "outputs": [],
   "source": [
    "import os\n",
    "import time\n",
    "\n",
    "import requests\n",
    "\n",
    "trove_key = os.environ['TROVE']"
   ]
  },
  {
   "cell_type": "markdown",
   "id": "a6e92c4e",
   "metadata": {},
   "source": [
    "## query encoding\n",
    "- example url from GUI:\n",
    "- https://trove.nla.gov.au/work/167757367?keyword=philosophers%20zone&l-availability=y&l-availability=y%2Ff&l-format=Sound&l-format=Sound%2FInterview,%20lecture,%20talk"
   ]
  },
  {
   "cell_type": "code",
   "execution_count": null,
   "id": "61a29952",
   "metadata": {
    "ExecuteTime": {
     "end_time": "2021-08-31T04:13:15.511592Z",
     "start_time": "2021-08-31T04:13:15.506131Z"
    }
   },
   "outputs": [],
   "source": [
    "radio_national_podcasts = ['All In The Mind', 'AM', 'The Art Show', 'AWAYE!', 'Background Briefing', 'Between The Lines', 'A Big Country', 'Big Ideas', 'Blueprint', 'The Bookshelf',\n",
    "                           'The Book Show', 'Boyer Lectures', 'RN Breakfast', 'Conversations', 'Correspondents Report', 'Counterpoint', 'A Country Breakfast ', 'The Drawing Room', 'Download This Show',\n",
    "                           'RN Drive', 'Duet', 'The Economists', 'Earshot', 'Radio National Fictions', 'Future Tense', 'The Good Divorce', 'God Forbid', 'Great Moments In Science', 'Health Report',\n",
    "                           'The History Listen', 'Hot Mess', 'Late Night Live', 'Law Report', 'Life Matters', 'Lost and Found', 'The Minefield', 'The Money', 'The Music Show', \"Ockham's Razor\",\n",
    "                           'Off Track', 'Patient Zero', 'The Party Room', \"The Philosopher's Zone\", 'PM', 'The Pop Test', 'Rear Vision', 'The Religion and Ethics Report', 'RN Presents',\n",
    "                           'Saturday Extra', 'Science Friction', 'The Science Show', 'The Screen Show', 'Soul Search', 'Speaking Out', 'Sporty', 'The Stage Show', 'Stop Everything!',\n",
    "                           'Stuff The British Stole', 'Sum Of All Parts', 'Sunday Extra', 'This Black Line', 'This Much Is True']"
   ]
  },
  {
   "cell_type": "markdown",
   "id": "a1a195c4",
   "metadata": {},
   "source": [
    "## res formatting"
   ]
  },
  {
   "cell_type": "code",
   "execution_count": null,
   "id": "b5d450d8",
   "metadata": {
    "ExecuteTime": {
     "end_time": "2021-08-31T04:13:43.890675Z",
     "start_time": "2021-08-31T04:13:25.712806Z"
    }
   },
   "outputs": [],
   "source": [
    "%%time\n",
    "import pandas as pd\n",
    "\n",
    "num_pages = 5\n",
    "candidate_site_links = []\n",
    "\n",
   "for podcast in radio_national_podcasts[:5]:\n",
    "    query_params = {'key': trove_key,\n",
    "                    'zone': 'all',\n",
    "                    'q': podcast,\n",
    "                    'n': '200',\n",
    "                    'encoding': 'json',\n",
    "                    'decade': 2020,\n",
    "                    'contributor': 'Australian Broadcasting Corporation. Radio National',\n",
    "                    }\n",
    "    res = requests.get(\n",
    "        'https://api.trove.nla.gov.au/v2/result?', params=query_params)\n",
    "\n",
    "        # retrieve results\n",
    "        time.sleep(0.15)\n",
    "        res = requests.get(\n",
    "            'https://api.trove.nla.gov.au/v2/result?', params=base_query_params)\n",
    "    \n",
    "        # preliminary filtering\n",
    "        transcripts = (pd.DataFrame([e for e in res.json()['response']['zone'] if e['name'] == 'music'][0]['records']['work'])\n",
    "                       .pipe(lambda x: x[~x.contributor.isna()])\n",
    "                       .pipe(lambda x: x[x.contributor.apply(lambda y: True if 'Australian Broadcasting Corporation. Radio National' in y else False)])\n",
    "                       .pipe(lambda x: x[~x.identifier.isna()])\n",
    "                       .assign(abc_site_link=lambda x: x.identifier.apply(lambda y: y[0]['value']))\n",
    "                       .assign(query=podcast)\n",
    "                       )\n",
    "        candidate_site_links.append(transcripts)"
   ]
  },
  {
   "cell_type": "code",
   "execution_count": null,
   "id": "75c6b73c",
   "metadata": {},
   "outputs": [],
   "source": [
    "# pd.read_csv('/Users/samhardyhey/Desktop/otso-rand/experiment_artefacts/stt_training/misc_data/radio_national_trove_results.csv')"
   ]
  },
  {
   "cell_type": "code",
   "execution_count": null,
   "id": "e24bb7d7",
   "metadata": {},
   "outputs": [],
   "source": [
    "pd.concat(candidate_site_links, sort=True).drop_duplicates('id')"
   ]
  },
  {
   "cell_type": "code",
   "execution_count": null,
  "id": "01ffa459",
   "metadata": {
    "ExecuteTime": {
     "end_time": "2021-08-31T04:21:21.830006Z",
     "start_time": "2021-08-31T04:21:21.815605Z"
    }
   },
   "outputs": [],
   "source": [
    "res.json()['response'].keys()"
   ]
  },
  {
   "cell_type": "code",
   "execution_count": null,
   "id": "fbdab04c",
   "metadata": {
    "ExecuteTime": {
     "end_time": "2021-08-31T04:21:09.738459Z",
     "start_time": "2021-08-31T04:21:09.240541Z"
    }
   },
   "outputs": [],
   "source": [
    "res.json()['response']['zone']"
   ]
  },
  {
   "cell_type": "code",
   "execution_count": null,
   "id": "adb968a2",
   "metadata": {
    "ExecuteTime": {
     "end_time": "2021-08-31T04:14:07.407004Z",
     "start_time": "2021-08-31T04:14:07.356588Z"
    }
   },
   "outputs": [],
   "source": [
    "(pd.concat(candidate_site_links, sort=True)\n",
    " .drop_duplicates('id')\n",
   "#  .to_csv('/Users/samhardyhey/Desktop/otso-rand/experiment_artefacts/stt_training/misc_data/radio_national_trove_results.csv', index=False)\n",
    " )"
   ]
  }
 ],
 "metadata": {
  "kernelspec": {
   "display_name": "Python 3",
   "language": "python",
   "name": "python3"
  },
  "language_info": {
   "codemirror_mode": {
    "name": "ipython",
    "version": 3
   },
   "file_extension": ".py",
   "mimetype": "text/x-python",
   "name": "python",
   "nbconvert_exporter": "python",
   "pygments_lexer": "ipython3",
   "version": "3.8.8"
  }
 },
 "nbformat": 4,
 "nbformat_minor": 5
}
